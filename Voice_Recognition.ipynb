{
  "nbformat": 4,
  "nbformat_minor": 0,
  "metadata": {
    "colab": {
      "provenance": [],
      "authorship_tag": "ABX9TyMpz8xC1aS2bqx60BQ5Hbcc",
      "include_colab_link": true
    },
    "kernelspec": {
      "name": "python3",
      "display_name": "Python 3"
    },
    "language_info": {
      "name": "python"
    }
  },
  "cells": [
    {
      "cell_type": "markdown",
      "metadata": {
        "id": "view-in-github",
        "colab_type": "text"
      },
      "source": [
        "<a href=\"https://colab.research.google.com/github/Hildone/SecuCare/blob/main/Voice_Recognition.ipynb\" target=\"_parent\"><img src=\"https://colab.research.google.com/assets/colab-badge.svg\" alt=\"Open In Colab\"/></a>"
      ]
    },
    {
      "cell_type": "markdown",
      "source": [
        "# Machine Learning Of SecuCare"
      ],
      "metadata": {
        "id": "w3pE7u7-0j1d"
      }
    },
    {
      "cell_type": "markdown",
      "source": [
        "## Table Of Content\n",
        "\n",
        "1. Prepare Data\n",
        "2. Preprocessing Data\n",
        "3. Training Data\n",
        "4. Prediction\n",
        "\n",
        "[Dataset Audio (RAW)](https://drive.google.com/drive/folders/1EBHCdvuKrRydTHwajohGZNZNV10BsdS6)\n",
        "\n",
        "[Dataset Audio (CSV)](https://github.com/Hildone/SecuCare/tree/main/Machine%20Learning/proper_dataset)\n",
        "\n",
        "[Model Machine Learning](https://github.com/Hildone/SecuCare/tree/main/Machine%20Learning/saved_model)\n"
      ],
      "metadata": {
        "id": "fj9uHvu2w2Ru"
      }
    },
    {
      "cell_type": "markdown",
      "source": [
        "### Prepare Data\n",
        "Kode dibawah adalah kode untuk membuat dataset dengan merekam audio **\"Tolong\"** dan **Selain** **\"Tolong\"** dengan format wav"
      ],
      "metadata": {
        "id": "4_2oo1XuxaBJ"
      }
    },
    {
      "cell_type": "code",
      "source": [
        "import sounddevice as sd\n",
        "from scipy.io.wavfile import write\n",
        "\n",
        "\n",
        "def rekam_wakeword_audio(save_path, n_kali=20):\n",
        "    input(\"Untuk merekam audio Tolong tekan Enter : \")\n",
        "    for i in range (n_kali):\n",
        "        fs = 44100\n",
        "        detik = 3\n",
        "        rekaman = sd.rec(int(detik*fs), samplerate = fs, channels=2)\n",
        "        sd.wait()\n",
        "        write(save_path + str(i) + \".wav\", fs, rekaman)\n",
        "        input(f\"Tekan Untuk merekam Kembali atau stop dengan ctrl + c ({i+1}/{n_kali})\")\n",
        "\n",
        "\n",
        "def rekam_audio_background(save_path, n_kali=33):\n",
        "    input(\"Untuk merekam audio background tekan Enter : \")\n",
        "    for i in range (n_kali):\n",
        "        fs = 44100\n",
        "        detik = 3\n",
        "        rekaman = sd.rec(int(detik*fs), samplerate = fs, channels=2)\n",
        "        sd.wait()\n",
        "        write(save_path + str(120+i) + \".wav\", fs, rekaman)\n",
        "        print(f\"Sekarang Sedang Berada Di : {i+1}/{n_kali}\")\n",
        "\n",
        "# Membagi Audio Kedalam Folder Yang Berbeda\n",
        "print(\"Merekam Tolong Audio: \\n\")\n",
        "rekam_wakeword_audio(\"dataaudio/\")\n",
        "\n",
        "print(\"Merekam non-Tolong Audio: \\n\")\n",
        "rekam_audio_background(\"bgaudio/\")\n"
      ],
      "metadata": {
        "id": "40sEkGZ7w8tI"
      },
      "execution_count": null,
      "outputs": []
    },
    {
      "cell_type": "markdown",
      "source": [
        "### Preprocessing Data\n",
        "Kode dibawah adalah kode untuk mengelompokkan serta melabeli dataset audio yang sudah dikumpulkan sehingga siap untuk tahap Training"
      ],
      "metadata": {
        "id": "4X_97c_ExfVW"
      }
    },
    {
      "cell_type": "code",
      "source": [
        "import os\n",
        "import librosa\n",
        "import librosa.display\n",
        "import matplotlib.pyplot as plt\n",
        "import numpy as np\n",
        "import pandas as pd\n",
        "\n",
        "sample = \"bgaudio/1.wav\"\n",
        "data, sample_rate = librosa.load(sample)\n",
        "\n",
        "plt.title(\" Gelombang Suara \")\n",
        "librosa.display.waveshow(data, sr=sample_rate)\n",
        "plt.show()\n",
        "\n",
        "mfccs = librosa.feature.mfcc(y=data,sr = sample_rate, n_mfcc=40)\n",
        "print(\"Bentuk MfCC: \", mfccs.shape)\n",
        "\n",
        "plt.title('MFCC')\n",
        "librosa.display.specshow(mfccs, sr=sample_rate, x_axis='time')\n",
        "plt.show()\n",
        "\n",
        "all_data = []\n",
        "\n",
        "lokasi_data = {\n",
        "    0:[\"bgaudio/\" + lokasi_file for lokasi_file in os.listdir(\"bgaudio/\")],\n",
        "    1:[\"dataaudio/\" + lokasi_file for lokasi_file in os.listdir(\"dataaudio/\")]\n",
        "}\n",
        "\n",
        "for label_kelas, list_file in lokasi_data.items():\n",
        "    for data_tunggal in list_file:\n",
        "        data, sample_rate = librosa.load(data_tunggal)\n",
        "        mfccs = librosa.feature.mfcc(y=data,sr = sample_rate, n_mfcc=40)\n",
        "        mfcc_preprocess = np.mean(mfccs.T, axis=0)\n",
        "        all_data.append([mfcc_preprocess, label_kelas])\n",
        "\n",
        "    print(f\"Sukses Melabeli Data {label_kelas}\")\n",
        "\n",
        "df = pd.DataFrame(all_data, columns=[\"fitur\", 'label_kelas'])\n",
        "\n",
        "df.to_pickle('proper_dataset/audio_data.csv')"
      ],
      "metadata": {
        "id": "Fc2QG3Nmxiz3"
      },
      "execution_count": null,
      "outputs": []
    },
    {
      "cell_type": "markdown",
      "source": [
        "### Training Data\n",
        "Kode dibawah ini digunakan untuk tahap training data dengan dataset yang sudah proper"
      ],
      "metadata": {
        "id": "mKBH6Jhtxp5x"
      }
    },
    {
      "cell_type": "code",
      "source": [
        "import numpy as np\n",
        "import pandas as pd\n",
        "import tensorflow as tf\n",
        "from sklearn.metrics import confusion_matrix, classification_report\n",
        "from sklearn.model_selection import train_test_split\n",
        "\n",
        "df = pd.read_pickle(\"proper_dataset/audio_data.csv\")\n",
        "\n",
        "x = df['fitur'].values\n",
        "x = np.concatenate(x, axis=0).reshape(len(x), 40)\n",
        "\n",
        "y = np.array(df[\"label_kelas\"].tolist())\n",
        "y = tf.keras.utils.to_categorical(y)\n",
        "\n",
        "x_train, x_test, y_train, y_test = train_test_split(x,y,test_size=0.2,random_state=42)\n",
        "\n",
        "model = tf.keras.models.Sequential([\n",
        "    tf.keras.layers.Dense(512, activation = 'relu', input_shape=x_train[0].shape, kernel_regularizer=tf.keras.regularizers.l2(0.01)),\n",
        "    tf.keras.layers.Dropout(0.5),\n",
        "    tf.keras.layers.Dense(512, activation = 'relu',  kernel_regularizer=tf.keras.regularizers.l2(0.01)),\n",
        "    tf.keras.layers.Dropout(0.5),\n",
        "    tf.keras.layers.Dense(2, activation = 'sigmoid'),\n",
        "])\n",
        "\n",
        "print(model.summary())\n",
        "lr_schedule = tf.keras.optimizers.schedules.ExponentialDecay(initial_learning_rate=0.0001, decay_steps=10000, decay_rate=0.9)\n",
        "optimizer = tf.keras.optimizers.Adam(learning_rate=lr_schedule)\n",
        "\n",
        "model.compile(\n",
        "    optimizer = optimizer, loss='binary_crossentropy', metrics = ['accuracy']\n",
        ")\n",
        "\n",
        "history = model.fit(x_train,y_train, epochs=1000)\n",
        "model.save(\"saved_model/Model.h5\")\n",
        "print(model.evaluate(x_test, y_test))\n",
        "\n",
        "y_pred = np.argmax(model.predict(x_test), axis=1)\n",
        "print(classification_report(np.argmax(y_test, axis=1), y_pred))\n",
        "print(y_pred)"
      ],
      "metadata": {
        "id": "Xyq-l7uRxtxZ"
      },
      "execution_count": null,
      "outputs": []
    },
    {
      "cell_type": "markdown",
      "source": [
        "### Prediction\n",
        "Kode dibawah ini digunakan untuk memprediksi terkait input suara user, dimana model akan memprediksi apakah input user termasuk Tolong atau Tidak"
      ],
      "metadata": {
        "id": "n35oZ2c6xz-h"
      }
    },
    {
      "cell_type": "code",
      "source": [
        "import sounddevice as sd\n",
        "from scipy.io.wavfile import write\n",
        "import librosa\n",
        "import numpy as np\n",
        "from keras.models import load_model\n",
        "\n",
        "####### ALL CONSTANTS #####\n",
        "fs = 44100\n",
        "seconds = 2\n",
        "filename = \"prediction.wav\"\n",
        "\n",
        "##### LOADING OUR SAVED MODEL and PREDICTING ###\n",
        "model = load_model(\"saved_model/Model.h5\")\n",
        "\n",
        "print(\"Prediksi Dimulai: \")\n",
        "i = 0\n",
        "while True:\n",
        "    print(\"Bicara Sekarang : \")\n",
        "    myrecording = sd.rec(int(seconds * fs), samplerate=fs, channels=2)\n",
        "    sd.wait()\n",
        "    write(filename, fs, myrecording)\n",
        "\n",
        "    audio, sample_rate = librosa.load(filename)\n",
        "    mfcc = librosa.feature.mfcc(y=audio, sr=sample_rate, n_mfcc=40)\n",
        "    mfcc_processed = np.mean(mfcc.T, axis=0)\n",
        "\n",
        "    prediction = model.predict(np.expand_dims(mfcc_processed, axis=0))\n",
        "    if prediction[:, 1] > 0.99:\n",
        "        print(f\"Tolong Detected ({i})\")\n",
        "        print(\"Confidence:\", prediction[:, 1])\n",
        "        i += 1\n",
        "\n",
        "    else:\n",
        "        print(f\"Tolong Not Detected\")\n",
        "        print(\"Confidence:\", prediction[:, 0])\n",
        "\n",
        "    input(f\"Enter\")"
      ],
      "metadata": {
        "id": "3dg7JUYoxw8J"
      },
      "execution_count": null,
      "outputs": []
    }
  ]
}